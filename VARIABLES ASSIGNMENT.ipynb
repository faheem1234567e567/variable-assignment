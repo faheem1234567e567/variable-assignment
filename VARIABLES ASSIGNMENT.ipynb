{
 "cells": [
  {
   "cell_type": "markdown",
   "id": "e2fc3600-9b06-4110-87d0-9a1e2eb62a56",
   "metadata": {},
   "source": [
    "Question no.1 :Write all the conventions being followed while declaring a variable?\n",
    "Ans;Hera are the most important conventions:\n",
    "1.use of lowercase letters\n",
    "for example; 'my_variable'\n",
    "2.seperate words with underscores\n",
    "for example;my_varible_name\n",
    "3.use of meaning abbreviations"
   ]
  },
  {
   "cell_type": "raw",
   "id": "d4d47765-999f-4f61-8396-214244395375",
   "metadata": {},
   "source": [
    "Question2;what will happen if we declare a restricted keyword as a variable?\n",
    "Ans:If you attempt to declare a variable using a restricted keyword you will encounter with a syntax error.\n",
    "for example:"
   ]
  },
  {
   "cell_type": "code",
   "execution_count": 1,
   "id": "b486e62f-44fe-4353-81ee-f889e6ce7d48",
   "metadata": {},
   "outputs": [],
   "source": [
    "s = 'pwskills'"
   ]
  },
  {
   "cell_type": "code",
   "execution_count": 2,
   "id": "772a3cff-bd4f-427c-ab29-e3ca8f293231",
   "metadata": {},
   "outputs": [
    {
     "ename": "IndexError",
     "evalue": "string index out of range",
     "output_type": "error",
     "traceback": [
      "\u001b[0;31m---------------------------------------------------------------------------\u001b[0m",
      "\u001b[0;31mIndexError\u001b[0m                                Traceback (most recent call last)",
      "Cell \u001b[0;32mIn[2], line 1\u001b[0m\n\u001b[0;32m----> 1\u001b[0m \u001b[43ms\u001b[49m\u001b[43m[\u001b[49m\u001b[38;5;241;43m8\u001b[39;49m\u001b[43m]\u001b[49m\n",
      "\u001b[0;31mIndexError\u001b[0m: string index out of range"
     ]
    }
   ],
   "source": [
    "s[8]"
   ]
  },
  {
   "cell_type": "markdown",
   "id": "dd68295e-d296-4156-82b2-60b30586d7ca",
   "metadata": {},
   "source": [
    "Question no.3:Can we declare a string as a variable name?\n",
    "Ans:yes"
   ]
  },
  {
   "cell_type": "markdown",
   "id": "d7fd6d7e-cc03-4aca-a16d-bd578905fd62",
   "metadata": {},
   "source": [
    "question4:Is it possible for us to declare \"_\" as a variable, if so then write an example of it\n",
    "Ans:yes\n",
    "forexample:"
   ]
  },
  {
   "cell_type": "code",
   "execution_count": 4,
   "id": "eb015cf0-071b-4a1b-8f5a-a4f1895077ca",
   "metadata": {},
   "outputs": [
    {
     "name": "stdout",
     "output_type": "stream",
     "text": [
      "I love pw\n"
     ]
    }
   ],
   "source": [
    "s = print(\"I love pw\")"
   ]
  },
  {
   "cell_type": "markdown",
   "id": "a9134d30-8331-4323-8ed5-aae24f2eeee4",
   "metadata": {},
   "source": [
    "Question 5:Using an example,explain how variables are dynamic in nature\n",
    "Ans: for example:"
   ]
  },
  {
   "cell_type": "code",
   "execution_count": 5,
   "id": "af50fb7c-53c3-43f7-a42b-0aa0ce88321d",
   "metadata": {},
   "outputs": [],
   "source": [
    "x = 5"
   ]
  },
  {
   "cell_type": "code",
   "execution_count": 6,
   "id": "cdc6bfe1-0dd1-487c-809c-78e44b132246",
   "metadata": {},
   "outputs": [
    {
     "name": "stdout",
     "output_type": "stream",
     "text": [
      "5\n"
     ]
    }
   ],
   "source": [
    "print(x)"
   ]
  },
  {
   "cell_type": "code",
   "execution_count": 7,
   "id": "5b4d31f8-d3a3-4b99-8a06-68a68ad385a4",
   "metadata": {},
   "outputs": [],
   "source": [
    "x = \"Hello,world\""
   ]
  },
  {
   "cell_type": "code",
   "execution_count": 8,
   "id": "76fa19f9-08d5-467a-9757-e0046eb83635",
   "metadata": {},
   "outputs": [
    {
     "name": "stdout",
     "output_type": "stream",
     "text": [
      "Hello,world\n"
     ]
    }
   ],
   "source": [
    "print(x)"
   ]
  },
  {
   "cell_type": "code",
   "execution_count": 9,
   "id": "a4f914be-819e-4c4a-8eb0-3657157fe9d3",
   "metadata": {},
   "outputs": [],
   "source": [
    "x = \"I love PW\""
   ]
  },
  {
   "cell_type": "code",
   "execution_count": 10,
   "id": "e9a01a2e-236c-4e7f-a2f9-65b2e157bcd5",
   "metadata": {},
   "outputs": [
    {
     "name": "stdout",
     "output_type": "stream",
     "text": [
      "I love PW\n"
     ]
    }
   ],
   "source": [
    "print(x)"
   ]
  },
  {
   "cell_type": "code",
   "execution_count": null,
   "id": "4606b195-a71c-4e78-8549-b681f6745f69",
   "metadata": {},
   "outputs": [],
   "source": []
  }
 ],
 "metadata": {
  "kernelspec": {
   "display_name": "Python 3 (ipykernel)",
   "language": "python",
   "name": "python3"
  },
  "language_info": {
   "codemirror_mode": {
    "name": "ipython",
    "version": 3
   },
   "file_extension": ".py",
   "mimetype": "text/x-python",
   "name": "python",
   "nbconvert_exporter": "python",
   "pygments_lexer": "ipython3",
   "version": "3.10.8"
  }
 },
 "nbformat": 4,
 "nbformat_minor": 5
}
